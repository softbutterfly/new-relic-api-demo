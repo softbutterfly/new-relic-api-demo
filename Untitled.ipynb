{
 "cells": [
  {
   "cell_type": "code",
   "execution_count": 1,
   "id": "dada1a15-813d-4393-8fad-3e578b686ebd",
   "metadata": {},
   "outputs": [],
   "source": [
    "import json\n",
    "import requests\n",
    "from dotenv import dotenv_values"
   ]
  },
  {
   "cell_type": "code",
   "execution_count": 2,
   "id": "6bcb7a3a-43d8-4886-89f7-deb520dc28f8",
   "metadata": {},
   "outputs": [],
   "source": [
    "config = dotenv_values(\".env\")\n",
    "\n",
    "ACCOUNT_ID = config.get(\"ACCOUNT_ID\", None)\n",
    "API_KEY = config.get(\"API_KEY\", None)"
   ]
  },
  {
   "cell_type": "code",
   "execution_count": 3,
   "id": "5c7c2517-edb7-4778-be99-a4e1e106e042",
   "metadata": {},
   "outputs": [],
   "source": [
    "nrql_query = \"SELECT * FROM Log LIMIT 10\""
   ]
  },
  {
   "cell_type": "code",
   "execution_count": 4,
   "id": "ed67a018-fed4-4e1f-9bc2-ed379b0a32d9",
   "metadata": {},
   "outputs": [],
   "source": [
    "api_query = f\"\"\"\n",
    "{{\n",
    "  actor {{\n",
    "    account(id: {ACCOUNT_ID}) {{\n",
    "      nrql(query: \"{nrql_query}\") {{\n",
    "        embeddedChartUrl\n",
    "        nrql\n",
    "        otherResult\n",
    "        staticChartUrl\n",
    "        totalResult\n",
    "        results\n",
    "      }}\n",
    "    }}\n",
    "  }}\n",
    "}}\n",
    "\"\"\""
   ]
  },
  {
   "cell_type": "code",
   "execution_count": 5,
   "id": "8bec07fd-32d4-4a11-b75f-02245d569f49",
   "metadata": {},
   "outputs": [],
   "source": [
    "response = requests.post(\n",
    "    \"https://api.newrelic.com/graphql\",\n",
    "    data=json.dumps({\n",
    "        \"query\": api_query\n",
    "    }),\n",
    "    headers={\n",
    "        \"Content-Type\": \"application/json\",\n",
    "        \"API-Key\": API_KEY\n",
    "    }\n",
    ")"
   ]
  },
  {
   "cell_type": "code",
   "execution_count": 6,
   "id": "619a521c-66ac-44df-90f8-2b72eaa66547",
   "metadata": {},
   "outputs": [
    {
     "data": {
      "text/plain": [
       "<Response [200]>"
      ]
     },
     "execution_count": 6,
     "metadata": {},
     "output_type": "execute_result"
    }
   ],
   "source": [
    "response"
   ]
  },
  {
   "cell_type": "code",
   "execution_count": 7,
   "id": "8470042c-8912-4f15-a3f0-4cc07ec284c1",
   "metadata": {},
   "outputs": [
    {
     "data": {
      "text/plain": [
       "{'data': {'actor': {'account': {'nrql': {'embeddedChartUrl': 'https://chart-embed.service.newrelic.com/charts/dc62b2cb-1cc4-4772-ae3b-9f18bac26f9d',\n",
       "     'nrql': 'SELECT * FROM Log LIMIT 10',\n",
       "     'otherResult': None,\n",
       "     'results': [{'channel': 'Output',\n",
       "       'kind': 'OUT',\n",
       "       'log-date': '2021/08/06',\n",
       "       'log-time': '15:00:40',\n",
       "       'messageId': 'a5964cb6-3ba5-4cd8-9856-7898a6a0a052',\n",
       "       'newrelic.logs.batchIndex': 1109,\n",
       "       'plugin.type': 'fluentd',\n",
       "       'plugin.version': '1.1.10',\n",
       "       'timestamp': 1628280040288,\n",
       "       'transaction': 'ULgR1OhCP7ekh+c90QfpY3vN'},\n",
       "      {'channel': 'DeliveryManager',\n",
       "       'kind': 'OUT',\n",
       "       'log-date': '2021/08/06',\n",
       "       'log-time': '15:00:40',\n",
       "       'messageId': '304b3f87-9878-47bd-be0d-f44f6b7b1688',\n",
       "       'newrelic.logs.batchIndex': 1108,\n",
       "       'plugin.type': 'fluentd',\n",
       "       'plugin.version': '1.1.10',\n",
       "       'timestamp': 1628280040288,\n",
       "       'transaction': 'ULgR1OhCP7ekh+c90QfpY3vN'},\n",
       "      {'channel': 'DeliveryManager',\n",
       "       'kind': 'IN',\n",
       "       'log-date': '2021/08/06',\n",
       "       'log-time': '15:00:40',\n",
       "       'messageId': 'cfae32a3-08e0-4a52-a1f4-f34104e66683',\n",
       "       'newrelic.logs.batchIndex': 1107,\n",
       "       'plugin.type': 'fluentd',\n",
       "       'plugin.version': '1.1.10',\n",
       "       'timestamp': 1628280040287,\n",
       "       'transaction': 'ULgR1OhCP7ekh+c90QfpY3vN'},\n",
       "      {'channel': 'Output',\n",
       "       'kind': 'IN',\n",
       "       'log-date': '2021/08/06',\n",
       "       'log-time': '15:00:40',\n",
       "       'messageId': '24fa2603-8025-44c5-9d04-9454f7c55222',\n",
       "       'newrelic.logs.batchIndex': 1106,\n",
       "       'plugin.type': 'fluentd',\n",
       "       'plugin.version': '1.1.10',\n",
       "       'timestamp': 1628280040286,\n",
       "       'transaction': 'ULgR1OhCP7ekh+c90QfpY3vN'},\n",
       "      {'channel': 'ServiceCenterOu',\n",
       "       'kind': 'MNEWTRANS',\n",
       "       'log-date': '2021/08/06',\n",
       "       'log-time': '15:00:40',\n",
       "       'messageId': 'a9bd4c49-2013-468b-8dd1-c711c297a999',\n",
       "       'newrelic.logs.batchIndex': 1103,\n",
       "       'plugin.type': 'fluentd',\n",
       "       'plugin.version': '1.1.10',\n",
       "       'timestamp': 1628280040276,\n",
       "       'transaction': 'ULgR1OhCP7ekh+c90QfpY3vN',\n",
       "       'transaction2': 'ULgR1Oh4UzpqUUc90QdWehyM'},\n",
       "      {'channel': 'ServiceCenterOu',\n",
       "       'kind': 'TOREGISTER',\n",
       "       'log-date': '2021/08/06',\n",
       "       'log-time': '15:00:40',\n",
       "       'messageId': '82fe41f1-e661-4373-9823-f939287e0a9a',\n",
       "       'newrelic.logs.batchIndex': 1104,\n",
       "       'plugin.type': 'fluentd',\n",
       "       'plugin.version': '1.1.10',\n",
       "       'timestamp': 1628280040276,\n",
       "       'transaction': 'ULgR1OhCP7ekh+c90QfpY3vN'},\n",
       "      {'channel': 'ServiceCenterOu',\n",
       "       'kind': 'OUT',\n",
       "       'log-date': '2021/08/06',\n",
       "       'log-time': '15:00:40',\n",
       "       'messageId': 'cd2a4309-5e00-476f-ae35-9fd063c160b6',\n",
       "       'newrelic.logs.batchIndex': 1105,\n",
       "       'plugin.type': 'fluentd',\n",
       "       'plugin.version': '1.1.10',\n",
       "       'pri': '6',\n",
       "       'timestamp': 1628280040276,\n",
       "       'transaction': 'ULgR1OhCP7ekh+c90QfpY3vN'},\n",
       "      {'channel': 'ServiceCenterOu',\n",
       "       'kind': 'IN',\n",
       "       'log-date': '2021/08/06',\n",
       "       'log-time': '15:00:40',\n",
       "       'messageId': 'b5c8de59-ecbf-40e4-9daa-253373d14aea',\n",
       "       'newrelic.logs.batchIndex': 1102,\n",
       "       'plugin.type': 'fluentd',\n",
       "       'plugin.version': '1.1.10',\n",
       "       'pri': '6',\n",
       "       'timestamp': 1628280040267,\n",
       "       'transaction': 'ULgR1Oh4UzpqUUc90QdWehyM'},\n",
       "      {'channel': 'WsSerInPriAdAut',\n",
       "       'kind': 'OUT',\n",
       "       'log-date': '2021/08/06',\n",
       "       'log-time': '15:00:40',\n",
       "       'messageId': 'c8b8d4f8-56a5-4433-9fbd-570613fecbd0',\n",
       "       'newrelic.logs.batchIndex': 1101,\n",
       "       'plugin.type': 'fluentd',\n",
       "       'plugin.version': '1.1.10',\n",
       "       'pri': '6',\n",
       "       'timestamp': 1628280040264,\n",
       "       'transaction': 'ULgR1Oh4UzpqUUc90QdWehyM'},\n",
       "      {'channel': 'WsSerInPriAdAut',\n",
       "       'kind': 'NEWTRANS',\n",
       "       'log-date': '2021/08/06',\n",
       "       'log-time': '15:00:40',\n",
       "       'message': '20210806150040345050f980',\n",
       "       'messageId': '2114bd50-4236-452c-bbe2-9e6c0015089d',\n",
       "       'newrelic.logs.batchIndex': 1100,\n",
       "       'plugin.type': 'fluentd',\n",
       "       'plugin.version': '1.1.10',\n",
       "       'timestamp': 1628280040262,\n",
       "       'transaction': 'ULgR1Oh4UzpqUUc90QdWehyM'}],\n",
       "     'staticChartUrl': 'https://chart-image.service.newrelic.com/image/755de401-c3ac-4993-a220-3c6bc0365701',\n",
       "     'totalResult': None}}}}}"
      ]
     },
     "execution_count": 7,
     "metadata": {},
     "output_type": "execute_result"
    }
   ],
   "source": [
    "response.json()"
   ]
  },
  {
   "cell_type": "code",
   "execution_count": null,
   "id": "dbbc5d29-1ebf-4330-a90f-4817351fedd2",
   "metadata": {},
   "outputs": [],
   "source": []
  }
 ],
 "metadata": {
  "kernelspec": {
   "display_name": "Python 3 (ipykernel)",
   "language": "python",
   "name": "python3"
  },
  "language_info": {
   "codemirror_mode": {
    "name": "ipython",
    "version": 3
   },
   "file_extension": ".py",
   "mimetype": "text/x-python",
   "name": "python",
   "nbconvert_exporter": "python",
   "pygments_lexer": "ipython3",
   "version": "3.9.5"
  }
 },
 "nbformat": 4,
 "nbformat_minor": 5
}
